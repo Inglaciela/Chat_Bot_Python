{
 "cells": [
  {
   "cell_type": "markdown",
   "id": "c56b780c",
   "metadata": {},
   "source": [
    "# Criar Bot com Python\n",
    "\n",
    "### Bot no Computador - pyautogui"
   ]
  },
  {
   "cell_type": "code",
   "execution_count": null,
   "id": "29c87a41",
   "metadata": {},
   "outputs": [],
   "source": [
    "import pyautogui\n",
    "pyautogui.PAUSE = 2  #para dar tempo de espera na execusa do codigo\n",
    "\n",
    "#abrir a ferramenta do sistema do programa\n",
    "pyautogui.press(\"win\")\n",
    "pyautogui.write(\"login.xlsx\")\n",
    "pyautogui.press(\"backspace\")\n",
    "pyautogui.press(\"enter\")\n",
    "#peencher o login\n",
    "\n",
    "#preencher a senha\n",
    "#clicar em fazer login\n",
    "#clicar em fazer login"
   ]
  },
  {
   "cell_type": "code",
   "execution_count": null,
   "id": "40f52edf",
   "metadata": {},
   "outputs": [
    {
     "ename": "",
     "evalue": "",
     "output_type": "error",
     "traceback": [
      "\u001b[1;31mFalha ao iniciar o Kernel. \n",
      "\u001b[1;31mNão é possível iniciar o Kernel \"base (Python 3.9.12)\" devido ao tempo limite da conexão. \n",
      "\u001b[1;31mConsulte o <a href='command:jupyter.viewOutput'>log</a> do Jupyter para obter mais detalhes."
     ]
    }
   ],
   "source": [
    "\n",
    "import time\n",
    "\n",
    "time.sleep(3)\n",
    "pyautogui.position()"
   ]
  },
  {
   "cell_type": "markdown",
   "id": "d54af9d3",
   "metadata": {},
   "source": [
    "### Bot na Internet - Selenium"
   ]
  },
  {
   "cell_type": "code",
   "execution_count": null,
   "id": "836a35cd",
   "metadata": {},
   "outputs": [],
   "source": []
  },
  {
   "cell_type": "code",
   "execution_count": null,
   "id": "d62d6ca0",
   "metadata": {},
   "outputs": [],
   "source": []
  }
 ],
 "metadata": {
  "kernelspec": {
   "display_name": "Python 3.9.12 ('base')",
   "language": "python",
   "name": "python3"
  },
  "language_info": {
   "codemirror_mode": {
    "name": "ipython",
    "version": 3
   },
   "file_extension": ".py",
   "mimetype": "text/x-python",
   "name": "python",
   "nbconvert_exporter": "python",
   "pygments_lexer": "ipython3",
   "version": "3.9.12"
  },
  "vscode": {
   "interpreter": {
    "hash": "ff046a672fb09e7fa1e00e434311e66c5639a28c681a5a67d6c2fb754ec27d4f"
   }
  }
 },
 "nbformat": 4,
 "nbformat_minor": 5
}
